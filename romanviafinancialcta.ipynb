{
  "nbformat": 4,
  "nbformat_minor": 0,
  "metadata": {
    "colab": {
      "provenance": [],
      "authorship_tag": "ABX9TyMjTARoAM8rak5iZ5ZpzgLy",
      "include_colab_link": true
    },
    "kernelspec": {
      "name": "python3",
      "display_name": "Python 3"
    },
    "language_info": {
      "name": "python"
    }
  },
  "cells": [
    {
      "cell_type": "markdown",
      "metadata": {
        "id": "view-in-github",
        "colab_type": "text"
      },
      "source": [
        "<a href=\"https://colab.research.google.com/github/roboy88/Wealth-Via-Roman-Financial-Strategies-/blob/main/romanviafinancialcta.ipynb\" target=\"_parent\"><img src=\"https://colab.research.google.com/assets/colab-badge.svg\" alt=\"Open In Colab\"/></a>"
      ]
    },
    {
      "cell_type": "code",
      "source": [
        "from IPython.display import IFrame\n",
        "from google.colab import files\n",
        "\n",
        "# Full corrected HTML content\n",
        "html_code = '''\n",
        "<!DOCTYPE html>\n",
        "<html lang=\"en\">\n",
        "<head>\n",
        "  <meta charset=\"UTF-8\" />\n",
        "  <meta name=\"viewport\" content=\"width=device-width, initial-scale=1.0\"/>\n",
        "  <title>Roman VIA Financial - Plan Builder</title>\n",
        "  <style>\n",
        "    body { font-family: Arial, sans-serif; padding: 20px; background: #f9f9f9; }\n",
        "    h1 { color: #003366; text-align: center; }\n",
        "    label, input, select { display: block; margin-bottom: 10px; width: 100%; font-size: 16px; }\n",
        "    button { background: #003366; color: white; padding: 12px 20px; border: none; font-size: 18px; cursor: pointer; width: 100%; }\n",
        "    .result { margin-top: 20px; font-weight: bold; text-align: center; }\n",
        "    .section, .cta { font-size: 16px; margin: 20px auto; text-align: center; max-width: 600px; line-height: 1.6; }\n",
        "    .tagline { font-size: 18px; font-weight: bold; color: #003366; text-align: center; margin-top: 10px; }\n",
        "    .keywords { font-size: 15px; color: #555; text-align: center; margin-bottom: 20px; }\n",
        "    .logo { display: block; margin: 20px auto 10px; max-width: 280px; }\n",
        "  </style>\n",
        "</head>\n",
        "<body>\n",
        "\n",
        "<div class=\"tagline\">See Clearly. Stand Firm. Sleep Well.</div>\n",
        "<div class=\"keywords\">Insurance • Retirement • Final Expense</div>\n",
        "\n",
        "<div class=\"section\">\n",
        "  <p><strong>IUL:</strong> Protection + market-tied growth</p>\n",
        "  <p><strong>Whole Life:</strong> Lifetime coverage, stable value</p>\n",
        "  <p><strong>Term Life:</strong> Simple, affordable safety net</p>\n",
        "  <p><strong>Final Expense:</strong> Guaranteed approval, small policy</p>\n",
        "  <p><strong>Annuities:</strong> Turn your savings into income for life</p>\n",
        "</div>\n",
        "\n",
        "<div class=\"cta\">\n",
        "  <h1>Take Control of Your Legacy Today</h1>\n",
        "  <p>Fill out the form below to get matched with your personalized insurance strategy.</p>\n",
        "</div>\n",
        "\n",
        "<form name=\"iulForm\" id=\"iulForm\">\n",
        "  <label>Name: <input type=\"text\" id=\"name\" required></label>\n",
        "  <label>Email: <input type=\"email\" id=\"email\" required></label>\n",
        "  <label>Phone: <input type=\"tel\" id=\"phone\" required></label>\n",
        "  <label>1. Age: <input type=\"number\" id=\"age\" required></label>\n",
        "  <label>2. Smoker? <select id=\"smoker\"><option>No</option><option>Yes</option></select></label>\n",
        "  <label>3. Chronic Illness? <select id=\"illness\"><option>No</option><option>Yes</option></select></label>\n",
        "  <label>4. Have life insurance? <select id=\"insured\"><option>No</option><option>Yes</option></select></label>\n",
        "  <label>5. Coverage Needed? <input type=\"number\" id=\"coverage\"></label>\n",
        "  <label>6. Annual Income? <input type=\"number\" id=\"income\"></label>\n",
        "  <label>7. Risk Tolerance: <select id=\"risk\"><option>Low</option><option>Medium</option><option>High</option></select></label>\n",
        "  <label>8. Want Cash Value? <select id=\"cash\"><option>Yes</option><option>No</option></select></label>\n",
        "  <label>9. Living Benefits? <select id=\"living\"><option>Yes</option><option>No</option></select></label>\n",
        "  <label>10. Tax-Free Retirement? <select id=\"taxfree\"><option>Yes</option><option>No</option></select></label>\n",
        "\n",
        "  <button type=\"submit\">Submit & Schedule My Strategy Call</button>\n",
        "</form>\n",
        "\n",
        "<div class=\"result\" id=\"result\"></div>\n",
        "\n",
        "<script>\n",
        "document.getElementById(\"iulForm\").addEventListener(\"submit\", function(event) {\n",
        "  event.preventDefault();\n",
        "  let score = 0;\n",
        "  if (document.getElementById(\"age\").value < 55) score += 2;\n",
        "  if (document.getElementById(\"smoker\").value === \"No\") score += 2;\n",
        "  if (document.getElementById(\"illness\").value === \"No\") score += 2;\n",
        "  if (document.getElementById(\"insured\").value === \"No\") score += 1;\n",
        "  if (parseInt(document.getElementById(\"income\").value) > 60000) score += 2;\n",
        "  if (document.getElementById(\"cash\").value === \"Yes\") score += 1;\n",
        "  if (document.getElementById(\"taxfree\").value === \"Yes\") score += 1;\n",
        "  if (document.getElementById(\"risk\").value === \"Medium\") score += 1;\n",
        "  if (document.getElementById(\"risk\").value === \"High\") score += 2;\n",
        "  if (document.getElementById(\"living\").value === \"Yes\") score += 1;\n",
        "\n",
        "  const result = document.getElementById(\"result\");\n",
        "  if (score >= 10) {\n",
        "    result.innerText = \"✅ Excellent candidate. Redirecting...\";\n",
        "  } else if (score >= 6) {\n",
        "    result.innerText = \"✅ Good fit. Redirecting...\";\n",
        "  } else {\n",
        "    result.innerText = \"ℹ️ Let's talk through your custom solution.\";\n",
        "  }\n",
        "\n",
        "  setTimeout(function() {\n",
        "    window.location.href = \"https://calendly.com/event_types/user/me\";\n",
        "  }, 3000);\n",
        "});\n",
        "</script>\n",
        "\n",
        "</body>\n",
        "</html>\n",
        "'''\n",
        "\n",
        "# Save the file\n",
        "with open(\"index.html\", \"w\") as f:\n",
        "    f.write(html_code)\n",
        "\n",
        "# Display it\n",
        "display(IFrame(\"index.html\", width=\"100%\", height=\"600\"))\n",
        "\n",
        "# Option to download\n",
        "files.download(\"index.html\")\n"
      ],
      "metadata": {
        "colab": {
          "base_uri": "https://localhost:8080/",
          "height": 621
        },
        "id": "iyQkqXd5oU76",
        "outputId": "81e5e337-71cd-430f-8765-4c678d9af105"
      },
      "execution_count": null,
      "outputs": [
        {
          "output_type": "display_data",
          "data": {
            "text/plain": [
              "<IPython.lib.display.IFrame at 0x7af61c9a83d0>"
            ],
            "text/html": [
              "\n",
              "        <iframe\n",
              "            width=\"100%\"\n",
              "            height=\"600\"\n",
              "            src=\"index.html\"\n",
              "            frameborder=\"0\"\n",
              "            allowfullscreen\n",
              "            \n",
              "        ></iframe>\n",
              "        "
            ]
          },
          "metadata": {}
        },
        {
          "output_type": "display_data",
          "data": {
            "text/plain": [
              "<IPython.core.display.Javascript object>"
            ],
            "application/javascript": [
              "\n",
              "    async function download(id, filename, size) {\n",
              "      if (!google.colab.kernel.accessAllowed) {\n",
              "        return;\n",
              "      }\n",
              "      const div = document.createElement('div');\n",
              "      const label = document.createElement('label');\n",
              "      label.textContent = `Downloading \"${filename}\": `;\n",
              "      div.appendChild(label);\n",
              "      const progress = document.createElement('progress');\n",
              "      progress.max = size;\n",
              "      div.appendChild(progress);\n",
              "      document.body.appendChild(div);\n",
              "\n",
              "      const buffers = [];\n",
              "      let downloaded = 0;\n",
              "\n",
              "      const channel = await google.colab.kernel.comms.open(id);\n",
              "      // Send a message to notify the kernel that we're ready.\n",
              "      channel.send({})\n",
              "\n",
              "      for await (const message of channel.messages) {\n",
              "        // Send a message to notify the kernel that we're ready.\n",
              "        channel.send({})\n",
              "        if (message.buffers) {\n",
              "          for (const buffer of message.buffers) {\n",
              "            buffers.push(buffer);\n",
              "            downloaded += buffer.byteLength;\n",
              "            progress.value = downloaded;\n",
              "          }\n",
              "        }\n",
              "      }\n",
              "      const blob = new Blob(buffers, {type: 'application/binary'});\n",
              "      const a = document.createElement('a');\n",
              "      a.href = window.URL.createObjectURL(blob);\n",
              "      a.download = filename;\n",
              "      div.appendChild(a);\n",
              "      a.click();\n",
              "      div.remove();\n",
              "    }\n",
              "  "
            ]
          },
          "metadata": {}
        },
        {
          "output_type": "display_data",
          "data": {
            "text/plain": [
              "<IPython.core.display.Javascript object>"
            ],
            "application/javascript": [
              "download(\"download_d3d60271-44fd-4ef8-a8cc-fe6bb45bd7da\", \"index.html\", 4308)"
            ]
          },
          "metadata": {}
        }
      ]
    }
  ]
}